{
 "cells": [
  {
   "cell_type": "markdown",
   "metadata": {},
   "source": [
    "Machine learning is a method of data analysis that automates analytical model building.\n",
    "\n",
    "It used algorithm that iteratively learn from data, macine learning allows computers to find hidden insights without being explicitly programmed where to look.\n",
    "\n",
    "What it is used for :\n",
    "1. Fraud Detection       ||||||||||||||||||||||   8. Recommendation Engines\n",
    "2. Web Search Results    ||||||||||||||||||||||   9. Customer Segmentations\n",
    "3. Real time ads on web pages||||||||||||||||||   10. Text Sentiment Analysis\n",
    "4. Credit scoring and next-best offers|||||||||||||||11. Predicting Customer CHurn\n",
    "5. Prediction of equipment failures||||||||||||||||||12.  Pattern & Image Recognition\n",
    "6. New pricing models||||||||||||||||||||||||| 13. Email Spam Filtering\n",
    "7. Network Intrusion Detections"
   ]
  },
  {
   "cell_type": "markdown",
   "metadata": {},
   "source": [
    "Neural network are the way of modelling biological neuron system mathematically.\n",
    "Those netowrks can be used to solve tasks that many other algorithm can't. Eg . Image Classification\n",
    "Deep Learning simply refers to neural netorks, with more than one hidden layer."
   ]
  },
  {
   "cell_type": "markdown",
   "metadata": {},
   "source": [
    "There are two main types of machine learning models. \n",
    "1. Supervised Learning \n",
    "2. Unsupervised Learning Models"
   ]
  },
  {
   "cell_type": "markdown",
   "metadata": {},
   "source": [
    "Supervised algortihms are trained using labelled examples, such as an input where the disired output is known.\n",
    "For example : A segment of text could have the cateogy label. \n",
    "Movie has category Movie Review : 'Positive' or 'Negative'\n",
    "Email Spam Detection : 'Spam' VS 'Legitimate'\n",
    "\n",
    "The algortihm recevies the set of inputs, along with the corresponding correct outputs and the algorithms learn by comparing it's actual output with correct output to find errors. \n",
    "It then modifies the model accordingly.\n",
    "\n",
    "Supervised learning is commonly used in application where historical data predicts likely future events.\n",
    "\n",
    "In this kind of models, data is splitted into three different parts . \n",
    "1. Training Dataset : It is used to Train model Parameters\n",
    "2. Validation Dataset : It is used to determine what model hyperparameters to Adjust\n",
    "3. Testing Dataset : It is used to get some final performance matrics\n",
    "\n",
    "After we see the results on the final test set we don't get to go back on and adjust any model parameters.\n",
    "This"
   ]
  },
  {
   "cell_type": "markdown",
   "metadata": {},
   "source": [
    "Overfitting : \n",
    "The model fits too much to the noise from the data.\n",
    "This often results in low error on training sets but high error on test/validation sets.\n",
    "\n",
    "\n",
    "Good Model : It will try to fit the general trend of the actual dataset.\n",
    "Overfitting : Model try to technically hit every single point.\n",
    "Underfitting : Model does not capture the underlying trend inside the data and does not fit the data well enough. It would cause low variance but high bias. Underfitting is often a result of excessivly simple model\n",
    "\n",
    "Evaluating Performance For Classification Problems :\n",
    "Precision : TP/ (TP + FP) Recall : TP / (TP + FN)\n",
    "\n",
    "Precision : It basically tells us the proportion of the data points our model says was relevant actaully were relevant.\n",
    "\n",
    "Recall : It expresses the ability to find all relevant instances in a dataset.\n",
    "\n",
    "F1-scoce : When we want to find an optimal blend of precision and recall we can combine these two metrics. And F1-score is the harmonic mean of Precision & Recall.\n",
    "\n",
    "False Positive : Type I error\n",
    "False Negative : Type II error\n",
    "\n",
    "Evaluating Performance For classification Tasks : \n",
    "1. Mean Absolute Error\n",
    "2. Mean Squared Error\n",
    "3. Root Mean Squared Error\n"
   ]
  },
  {
   "cell_type": "markdown",
   "metadata": {},
   "source": [
    "### UnSupervised Learning\n",
    "\n",
    "There are some tasks which fall under unsupervised learning.\n",
    "1. Clustering\n",
    "2. Anomaly Detection\n",
    "3. Dimesnionality Reduction\n",
    "\n",
    "A . Clustering : It basically means grouping together the unlabelled data points into Categories or Clusters. The points which are similar to each other ends up in one cluster.\n",
    "\n",
    "B . Anomaly Detection : Attempts to detect outliers in a dataset.\n",
    "Fraudalent Transactions on Debit Card.\n",
    "\n",
    "C. Dimensionality Reduction : It is a data processing technique that reduces the number of features in the dataset, either for compression, or to better understand underlying trends within a dataset.E.g. PCA\n",
    "\n",
    "\n"
   ]
  },
  {
   "cell_type": "markdown",
   "metadata": {},
   "source": []
  }
 ],
 "metadata": {
  "language_info": {
   "name": "python"
  },
  "orig_nbformat": 4
 },
 "nbformat": 4,
 "nbformat_minor": 2
}
