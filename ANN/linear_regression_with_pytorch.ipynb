{
 "cells": [
  {
   "cell_type": "code",
   "execution_count": 36,
   "metadata": {},
   "outputs": [
    {
     "name": "stderr",
     "output_type": "stream",
     "text": [
      "UsageError: Line magic function `%matplotlib.inline` not found.\n"
     ]
    }
   ],
   "source": [
    "import torch\n",
    "import numpy as np\n",
    "import matplotlib.pyplot as plt\n",
    "\n",
    "import torch.nn as nn\n",
    "%matplotlib.inline"
   ]
  },
  {
   "cell_type": "code",
   "execution_count": 37,
   "metadata": {},
   "outputs": [],
   "source": [
    "X = torch.linspace(1,50,50).reshape(-1,1)"
   ]
  },
  {
   "cell_type": "code",
   "execution_count": 38,
   "metadata": {},
   "outputs": [
    {
     "name": "stdout",
     "output_type": "stream",
     "text": [
      "tensor([[ 5.],\n",
      "        [-2.],\n",
      "        [ 2.],\n",
      "        [-3.],\n",
      "        [ 3.],\n",
      "        [-3.],\n",
      "        [ 5.],\n",
      "        [-4.],\n",
      "        [-2.],\n",
      "        [-5.],\n",
      "        [-6.],\n",
      "        [ 7.],\n",
      "        [ 6.],\n",
      "        [-4.],\n",
      "        [ 1.],\n",
      "        [-1.],\n",
      "        [ 6.],\n",
      "        [-5.],\n",
      "        [-2.],\n",
      "        [ 1.],\n",
      "        [-6.],\n",
      "        [-7.],\n",
      "        [-1.],\n",
      "        [ 3.],\n",
      "        [ 7.],\n",
      "        [-7.],\n",
      "        [-5.],\n",
      "        [-8.],\n",
      "        [ 1.],\n",
      "        [ 8.],\n",
      "        [-2.],\n",
      "        [-5.],\n",
      "        [ 1.],\n",
      "        [-8.],\n",
      "        [-8.],\n",
      "        [-5.],\n",
      "        [ 3.],\n",
      "        [ 8.],\n",
      "        [-4.],\n",
      "        [ 3.],\n",
      "        [ 1.],\n",
      "        [ 7.],\n",
      "        [ 7.],\n",
      "        [ 4.],\n",
      "        [ 3.],\n",
      "        [ 5.],\n",
      "        [-1.],\n",
      "        [ 6.],\n",
      "        [ 7.],\n",
      "        [ 7.]])\n"
     ]
    }
   ],
   "source": [
    "torch.manual_seed(77)\n",
    "e = torch.randint(-8,9,(50,1),dtype = torch.float)\n",
    "print(e)"
   ]
  },
  {
   "cell_type": "code",
   "execution_count": 39,
   "metadata": {},
   "outputs": [],
   "source": [
    "y = 2 * X + 1 + e"
   ]
  },
  {
   "cell_type": "code",
   "execution_count": 40,
   "metadata": {},
   "outputs": [
    {
     "data": {
      "text/plain": [
       "<matplotlib.collections.PathCollection at 0x126d77450>"
      ]
     },
     "execution_count": 40,
     "metadata": {},
     "output_type": "execute_result"
    },
    {
     "data": {
      "image/png": "[encoded data removed]",
      "text/plain": [
       "<Figure size 640x480 with 1 Axes>"
      ]
     },
     "metadata": {},
     "output_type": "display_data"
    }
   ],
   "source": [
    "plt.scatter(X.numpy(),y.numpy())"
   ]
  },
  {
   "cell_type": "code",
   "execution_count": 41,
   "metadata": {},
   "outputs": [
    {
     "name": "stdout",
     "output_type": "stream",
     "text": [
      "Parameter containing:\n",
      "tensor([[0.1060]], requires_grad=True)\n",
      "Parameter containing:\n",
      "tensor([0.9638], requires_grad=True)\n"
     ]
    }
   ],
   "source": [
    "torch.manual_seed(59)\n",
    "model = nn.Linear(in_features=1,out_features=1)\n",
    "print(model.weight)\n",
    "print(model.bias)"
   ]
  },
  {
   "cell_type": "code",
   "execution_count": 42,
   "metadata": {},
   "outputs": [],
   "source": [
    "class Model(nn.Module):\n",
    "    def __init__(self,in_features,out_features):\n",
    "        super().__init__()\n",
    "        self.linear = nn.Linear(in_features,out_features)\n",
    "    \n",
    "    def forward(self,x):\n",
    "        y_pred = self.linear(x)\n",
    "        return y_pred\n"
   ]
  },
  {
   "cell_type": "code",
   "execution_count": 43,
   "metadata": {},
   "outputs": [
    {
     "name": "stdout",
     "output_type": "stream",
     "text": [
      "Parameter containing:\n",
      "tensor([[0.1060]], requires_grad=True)\n",
      "Parameter containing:\n",
      "tensor([0.9638], requires_grad=True)\n"
     ]
    }
   ],
   "source": [
    "torch.manual_seed(59)\n",
    "model = Model(1,1)\n",
    "print(model.linear.weight)\n",
    "print(model.linear.bias)"
   ]
  },
  {
   "cell_type": "code",
   "execution_count": 44,
   "metadata": {},
   "outputs": [
    {
     "name": "stdout",
     "output_type": "stream",
     "text": [
      "linear.weight \t 0.10597813129425049\n",
      "linear.bias \t 0.9637961387634277\n"
     ]
    }
   ],
   "source": [
    "for name, param in model.named_parameters():\n",
    "    print(name,'\\t',param.item())\n"
   ]
  },
  {
   "cell_type": "code",
   "execution_count": 45,
   "metadata": {},
   "outputs": [
    {
     "name": "stdout",
     "output_type": "stream",
     "text": [
      "tensor([1.1758], grad_fn=<ViewBackward0>)\n"
     ]
    }
   ],
   "source": [
    "x = torch.tensor([2.])\n",
    "print(model.forward(x))"
   ]
  },
  {
   "cell_type": "code",
   "execution_count": 46,
   "metadata": {},
   "outputs": [],
   "source": [
    "x1 = np.linspace(0,50.0,50)\n"
   ]
  },
  {
   "cell_type": "code",
   "execution_count": 47,
   "metadata": {},
   "outputs": [],
   "source": [
    "w1 = 0.1059\n",
    "b1 = 0.9637\n",
    "y1 = w1 * x1 + b1"
   ]
  },
  {
   "cell_type": "code",
   "execution_count": 48,
   "metadata": {},
   "outputs": [
    {
     "data": {
      "text/plain": [
       "array([0.9637    , 1.07176122, 1.17982245, 1.28788367, 1.3959449 ,\n",
       "       1.50400612, 1.61206735, 1.72012857, 1.8281898 , 1.93625102,\n",
       "       2.04431224, 2.15237347, 2.26043469, 2.36849592, 2.47655714,\n",
       "       2.58461837, 2.69267959, 2.80074082, 2.90880204, 3.01686327,\n",
       "       3.12492449, 3.23298571, 3.34104694, 3.44910816, 3.55716939,\n",
       "       3.66523061, 3.77329184, 3.88135306, 3.98941429, 4.09747551,\n",
       "       4.20553673, 4.31359796, 4.42165918, 4.52972041, 4.63778163,\n",
       "       4.74584286, 4.85390408, 4.96196531, 5.07002653, 5.17808776,\n",
       "       5.28614898, 5.3942102 , 5.50227143, 5.61033265, 5.71839388,\n",
       "       5.8264551 , 5.93451633, 6.04257755, 6.15063878, 6.2587    ])"
      ]
     },
     "execution_count": 48,
     "metadata": {},
     "output_type": "execute_result"
    }
   ],
   "source": [
    "y1"
   ]
  },
  {
   "cell_type": "code",
   "execution_count": 49,
   "metadata": {},
   "outputs": [
    {
     "data": {
      "text/plain": [
       "[<matplotlib.lines.Line2D at 0x126dda310>]"
      ]
     },
     "execution_count": 49,
     "metadata": {},
     "output_type": "execute_result"
    },
    {
     "data": {
      "image/png": "[encoded data removed]",
      "text/plain": [
       "<Figure size 640x480 with 1 Axes>"
      ]
     },
     "metadata": {},
     "output_type": "display_data"
    }
   ],
   "source": [
    "plt.plot(x1,y1)"
   ]
  },
  {
   "cell_type": "code",
   "execution_count": 50,
   "metadata": {},
   "outputs": [
    {
     "data": {
      "text/plain": [
       "[<matplotlib.lines.Line2D at 0x126b2c350>]"
      ]
     },
     "execution_count": 50,
     "metadata": {},
     "output_type": "execute_result"
    },
    {
     "data": {
      "image/png": "[encoded data removed]",
      "text/plain": [
       "<Figure size 640x480 with 1 Axes>"
      ]
     },
     "metadata": {},
     "output_type": "display_data"
    }
   ],
   "source": [
    "plt.scatter(X.numpy(), y.numpy())\n",
    "plt.plot(x1,y1,'r')"
   ]
  },
  {
   "cell_type": "code",
   "execution_count": 51,
   "metadata": {},
   "outputs": [
    {
     "name": "stdout",
     "output_type": "stream",
     "text": [
      "Epoch 1, loss:  3199.159423828125, weight: 0.10597813129425049, bias: 0.9637961387634277\n",
      "Epoch 2, loss:  1663.35986328125, weight: 3.407900333404541, bias: 1.060983657836914\n",
      "Epoch 3, loss:  870.4804077148438, weight: 1.0354652404785156, bias: 0.9895787835121155\n",
      "Epoch 4, loss:  461.1449279785156, weight: 2.740143060684204, bias: 1.0393109321594238\n",
      "Epoch 5, loss:  249.81907653808594, weight: 1.515352487564087, bias: 1.0020049810409546\n",
      "Epoch 6, loss:  140.71856689453125, weight: 2.395429849624634, bias: 1.0272380113601685\n",
      "Epoch 7, loss:  84.3935546875, weight: 1.7631276845932007, bias: 1.0075366497039795\n",
      "Epoch 8, loss:  55.3145751953125, weight: 2.2174930572509766, bias: 1.0201220512390137\n",
      "Epoch 9, loss:  40.30176544189453, weight: 1.8910713195800781, bias: 1.0095096826553345\n",
      "Epoch 10, loss:  32.5507926940918, weight: 2.125657081604004, bias: 1.0155659914016724\n",
      "Epoch 11, loss:  28.548818588256836, weight: 1.9571501016616821, bias: 1.0096462965011597\n",
      "Epoch 12, loss:  26.482332229614258, weight: 2.0782713890075684, bias: 1.0123323202133179\n",
      "Epoch 13, loss:  25.415077209472656, weight: 1.99129056930542, bias: 1.008835792541504\n",
      "Epoch 14, loss:  24.863697052001953, weight: 2.0538339614868164, bias: 1.009782314300537\n",
      "Epoch 15, loss:  24.57863998413086, weight: 2.008942127227783, bias: 1.0075372457504272\n",
      "Epoch 16, loss:  24.431076049804688, weight: 2.0412440299987793, bias: 1.007586121559143\n",
      "Epoch 17, loss:  24.354494094848633, weight: 2.0180811882019043, bias: 1.005987524986267\n",
      "Epoch 18, loss:  24.314556121826172, weight: 2.0347702503204346, bias: 1.0055733919143677\n",
      "Epoch 19, loss:  24.293537139892578, weight: 2.0228254795074463, bias: 1.0043089389801025\n",
      "Epoch 20, loss:  24.282285690307617, weight: 2.03145432472229, bias: 1.003656268119812\n",
      "Epoch 21, loss:  24.276084899902344, weight: 2.0253007411956787, bias: 1.002564787864685\n",
      "Epoch 22, loss:  24.272485733032227, weight: 2.029768705368042, bias: 1.0017893314361572\n",
      "Epoch 23, loss:  24.270221710205078, weight: 2.026604413986206, bias: 1.0007874965667725\n",
      "Epoch 24, loss:  24.268667221069336, weight: 2.0289244651794434, bias: 0.9999490976333618\n",
      "Epoch 25, loss:  24.267457962036133, weight: 2.027303695678711, bias: 0.9989940524101257\n",
      "Epoch 26, loss:  24.266437530517578, weight: 2.0285146236419678, bias: 0.9981235861778259\n",
      "Epoch 27, loss:  24.265520095825195, weight: 2.0276906490325928, bias: 0.9971930980682373\n",
      "Epoch 28, loss:  24.264646530151367, weight: 2.0283288955688477, bias: 0.9963064789772034\n",
      "Epoch 29, loss:  24.2637996673584, weight: 2.027916431427002, bias: 0.9953891038894653\n",
      "Epoch 30, loss:  24.262971878051758, weight: 2.028259038925171, bias: 0.9944945573806763\n",
      "Epoch 31, loss:  24.262144088745117, weight: 2.0280590057373047, bias: 0.9935843348503113\n",
      "Epoch 32, loss:  24.261327743530273, weight: 2.0282490253448486, bias: 0.9926861524581909\n",
      "Epoch 33, loss:  24.2605037689209, weight: 2.02815842628479, bias: 0.9917801022529602\n",
      "Epoch 34, loss:  24.259689331054688, weight: 2.0282695293426514, bias: 0.9908804893493652\n",
      "Epoch 35, loss:  24.25888442993164, weight: 2.028235912322998, bias: 0.9899770021438599\n",
      "Epoch 36, loss:  24.25806427001953, weight: 2.028306007385254, bias: 0.9890770316123962\n",
      "Epoch 37, loss:  24.257251739501953, weight: 2.02830171585083, bias: 0.9881752729415894\n",
      "Epoch 38, loss:  24.256441116333008, weight: 2.028350830078125, bias: 0.9872755408287048\n",
      "Epoch 39, loss:  24.255634307861328, weight: 2.0283615589141846, bias: 0.986375093460083\n",
      "Epoch 40, loss:  24.25482749938965, weight: 2.028399705886841, bias: 0.9854758977890015\n",
      "Epoch 41, loss:  24.254018783569336, weight: 2.0284183025360107, bias: 0.9845765829086304\n",
      "Epoch 42, loss:  24.25320053100586, weight: 2.0284507274627686, bias: 0.9836781024932861\n",
      "Epoch 43, loss:  24.252397537231445, weight: 2.028473138809204, bias: 0.9827797412872314\n",
      "Epoch 44, loss:  24.2515926361084, weight: 2.028502941131592, bias: 0.9818820357322693\n",
      "Epoch 45, loss:  24.250782012939453, weight: 2.0285274982452393, bias: 0.980984628200531\n",
      "Epoch 46, loss:  24.249977111816406, weight: 2.028555393218994, bias: 0.9800877571105957\n",
      "Epoch 47, loss:  24.249177932739258, weight: 2.028581380844116, bias: 0.979191243648529\n",
      "Epoch 48, loss:  24.248374938964844, weight: 2.0286083221435547, bias: 0.9782952070236206\n",
      "Epoch 49, loss:  24.247568130493164, weight: 2.028634786605835, bias: 0.9773995876312256\n",
      "Epoch 50, loss:  24.24677085876465, weight: 2.0286614894866943, bias: 0.976504385471344\n"
     ]
    }
   ],
   "source": [
    "# writing activation function\n",
    "criterion = nn.MSELoss()\n",
    "optimizer = torch.optim.SGD(model.parameters(),lr = 0.001)\n",
    "epochs = 50\n",
    "losses = []\n",
    "for i in range(epochs):\n",
    "    i+=1\n",
    "    y_pred = model.forward(X)\n",
    "    loss = criterion(y_pred,y)\n",
    "    losses.append(loss.item())\n",
    "    print(f\"Epoch {i}, loss:  {loss.item()}, weight: {model.linear.weight.item()}, bias: {model.linear.bias.item()}\")\n",
    "    optimizer.zero_grad()\n",
    "    loss.backward()\n",
    "    optimizer.step()"
   ]
  },
  {
   "cell_type": "code",
   "execution_count": 52,
   "metadata": {},
   "outputs": [
    {
     "data": {
      "text/plain": [
       "Text(0.5, 0, 'No of Epochs')"
      ]
     },
     "execution_count": 52,
     "metadata": {},
     "output_type": "execute_result"
    },
    {
     "data": {
      "image/png": "[encoded data removed]",
      "text/plain": [
       "<Figure size 640x480 with 1 Axes>"
      ]
     },
     "metadata": {},
     "output_type": "display_data"
    }
   ],
   "source": [
    "plt.plot(range(epochs),losses)\n",
    "plt.ylabel('MSE')\n",
    "plt.xlabel('No of Epochs')"
   ]
  },
  {
   "cell_type": "code",
   "execution_count": 35,
   "metadata": {},
   "outputs": [
    {
     "name": "stdout",
     "output_type": "stream",
     "text": [
      "3199.159423828125\n"
     ]
    }
   ],
   "source": []
  },
  {
   "cell_type": "code",
   "execution_count": null,
   "metadata": {},
   "outputs": [],
   "source": []
  }
 ],
 "metadata": {
  "kernelspec": {
   "display_name": "myenv",
   "language": "python",
   "name": "python3"
  },
  "language_info": {
   "codemirror_mode": {
    "name": "ipython",
    "version": 3
   },
   "file_extension": ".py",
   "mimetype": "text/x-python",
   "name": "python",
   "nbconvert_exporter": "python",
   "pygments_lexer": "ipython3",
   "version": "3.11.4"
  },
  "orig_nbformat": 4
 },
 "nbformat": 4,
 "nbformat_minor": 2
}
